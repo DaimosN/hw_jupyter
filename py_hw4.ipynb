{
 "cells": [
  {
   "cell_type": "code",
   "execution_count": 1,
   "id": "3098f39f-971e-4b1e-b837-4530f4af52fb",
   "metadata": {},
   "outputs": [],
   "source": [
    "import re\n",
    "\n",
    "\n",
    "def validate_car_id(car_id):\n",
    "    # Регулярное выражение для проверки формата номера\n",
    "    pattern = r'^[А-Я]{1}\\d{3}[А-Я]{2}\\d{2,3}$'\n",
    "\n",
    "    # Проверяем соответствие регулярному выражению\n",
    "    match = re.match(pattern, car_id, re.IGNORECASE)\n",
    "\n",
    "    if match:\n",
    "        # Если номер валиден, извлекаем номер и регион\n",
    "        number = car_id[:-2]  # Все символы, кроме последних двух (или трех)\n",
    "        region = car_id[-2:] if len(car_id) == 8 else car_id[-3:]  # Последние 2 или 3 символа\n",
    "        return f\"Номер {number} валиден. Регион: {region}.\"\n",
    "    else:\n",
    "        return \"Номер не валиден.\""
   ]
  },
  {
   "cell_type": "code",
   "execution_count": 3,
   "id": "c8b37d58-d7a1-4df2-91fa-c4c43d971cc6",
   "metadata": {},
   "outputs": [
    {
     "name": "stdout",
     "output_type": "stream",
     "text": [
      "Номер А222ВС валиден. Регион: 96.\n",
      "Номер не валиден.\n"
     ]
    }
   ],
   "source": [
    "car_id1 = 'А222ВС96'\n",
    "print(validate_car_id(car_id1))\n",
    "car_id2 = 'АБ22ВВ193'\n",
    "print(validate_car_id(car_id2))"
   ]
  },
  {
   "cell_type": "code",
   "execution_count": 5,
   "id": "9dd0c401-5076-496c-bc0d-cd923dd6ce87",
   "metadata": {},
   "outputs": [],
   "source": [
    "def remove_consecutive_duplicates(s):\n",
    "    # Регулярное выражение для поиска повторяющихся слов\n",
    "    # \\b - граница слова, \\w+ - одно или более буквенно-цифровых символов\n",
    "    # \\s+ - один или более пробелов\n",
    "    pattern = r'\\b(\\w+)(?:\\s+\\1)+\\b'\n",
    "\n",
    "    # Замена повторяющихся слов на одно слово\n",
    "    result = re.sub(pattern, r'\\1', s)\n",
    "\n",
    "    return result"
   ]
  },
  {
   "cell_type": "code",
   "execution_count": 7,
   "id": "b71a9248-52b6-4964-a322-d6a902f8d770",
   "metadata": {},
   "outputs": [
    {
     "name": "stdout",
     "output_type": "stream",
     "text": [
      "Напишите функцию, которая будет удалять все последовательные повторы слов из заданной строки при помощи регулярных выражений\n"
     ]
    }
   ],
   "source": [
    "some_string = ('Напишите функцию функцию, которая будет будет будет будет '\n",
    "               'удалять все все все все последовательные повторы слов из из из '\n",
    "               'из заданной строки строки при помощи регулярных выражений')\n",
    "\n",
    "result = remove_consecutive_duplicates(some_string)\n",
    "print(result)"
   ]
  },
  {
   "cell_type": "code",
   "execution_count": null,
   "id": "e98ad935-1e20-453f-b358-86a3441305e2",
   "metadata": {},
   "outputs": [],
   "source": []
  }
 ],
 "metadata": {
  "kernelspec": {
   "display_name": "Python 3 (ipykernel)",
   "language": "python",
   "name": "python3"
  },
  "language_info": {
   "codemirror_mode": {
    "name": "ipython",
    "version": 3
   },
   "file_extension": ".py",
   "mimetype": "text/x-python",
   "name": "python",
   "nbconvert_exporter": "python",
   "pygments_lexer": "ipython3",
   "version": "3.12.4"
  }
 },
 "nbformat": 4,
 "nbformat_minor": 5
}

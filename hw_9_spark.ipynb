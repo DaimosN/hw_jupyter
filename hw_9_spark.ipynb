{
 "cells": [
  {
   "cell_type": "code",
   "execution_count": 18,
   "id": "529f755d-6d71-4b65-bbd1-b44b88520133",
   "metadata": {},
   "outputs": [],
   "source": [
    "from pyspark.sql import SparkSession\n",
    "from pyspark.sql.functions import split, explode, col, count"
   ]
  },
  {
   "cell_type": "code",
   "execution_count": 3,
   "id": "46c1c106-638d-4b17-8f35-0771b64f8313",
   "metadata": {},
   "outputs": [
    {
     "name": "stdout",
     "output_type": "stream",
     "text": [
      "Collecting pyspark\n",
      "  Using cached pyspark-3.5.3.tar.gz (317.3 MB)\n",
      "  Preparing metadata (setup.py): started\n",
      "  Preparing metadata (setup.py): finished with status 'done'\n",
      "Collecting py4j==0.10.9.7 (from pyspark)\n",
      "  Using cached py4j-0.10.9.7-py2.py3-none-any.whl.metadata (1.5 kB)\n",
      "Using cached py4j-0.10.9.7-py2.py3-none-any.whl (200 kB)\n",
      "Building wheels for collected packages: pyspark\n",
      "  Building wheel for pyspark (setup.py): started\n",
      "  Building wheel for pyspark (setup.py): still running...\n",
      "  Building wheel for pyspark (setup.py): finished with status 'done'\n",
      "  Created wheel for pyspark: filename=pyspark-3.5.3-py2.py3-none-any.whl size=317840669 sha256=788ae649e1f308d36f8c2ed39bb86f757f5a52234cff170a8f3ab50a2d5154ef\n",
      "  Stored in directory: c:\\users\\diman\\appdata\\local\\pip\\cache\\wheels\\07\\a0\\a3\\d24c94bf043ab5c7e38c30491199a2a11fef8d2584e6df7fb7\n",
      "Successfully built pyspark\n",
      "Installing collected packages: py4j, pyspark\n",
      "Successfully installed py4j-0.10.9.7 pyspark-3.5.3\n"
     ]
    }
   ],
   "source": [
    "!pip install pyspark"
   ]
  },
  {
   "cell_type": "code",
   "execution_count": 5,
   "id": "08bbfc96-62cb-4cfe-a217-48536b91bf42",
   "metadata": {},
   "outputs": [],
   "source": [
    "spark = SparkSession.builder.appName(\"spark_hw\").getOrCreate()"
   ]
  },
  {
   "cell_type": "code",
   "execution_count": 6,
   "id": "bc03ec1a-e44a-47b9-9337-5d9cab01a6ea",
   "metadata": {},
   "outputs": [],
   "source": [
    "df = spark.read.csv(\"movies.csv\", header=True)"
   ]
  },
  {
   "cell_type": "code",
   "execution_count": 8,
   "id": "6c2bed69-bdb5-4aa0-b208-15c21f610b97",
   "metadata": {},
   "outputs": [
    {
     "name": "stdout",
     "output_type": "stream",
     "text": [
      "+--------------------+---------+--------------------+----------------+-------------+-----------------+---------------+----+\n",
      "|                Film|    Genre|         Lead Studio|Audience score %|Profitability|Rotten Tomatoes %|Worldwide Gross|Year|\n",
      "+--------------------+---------+--------------------+----------------+-------------+-----------------+---------------+----+\n",
      "|Zack and Miri Mak...|  Romance|The Weinstein Com...|              70|  1.747541667|               64|        $41.94 |2008|\n",
      "|     Youth in Revolt|   Comedy|The Weinstein Com...|              52|         1.09|               68|        $19.62 |2010|\n",
      "|You Will Meet a T...|   Comedy|         Independent|              35|  1.211818182|               43|        $26.66 |2010|\n",
      "|        When in Rome|   Comedy|              Disney|              44|            0|               15|        $43.04 |2010|\n",
      "|What Happens in V...|   Comedy|                 Fox|              72|  6.267647029|               28|       $219.37 |2008|\n",
      "| Water For Elephants|    Drama|    20th Century Fox|              72|  3.081421053|               60|       $117.09 |2011|\n",
      "|              WALL-E|Animation|              Disney|              89|  2.896019067|               96|       $521.28 |2008|\n",
      "|            Waitress|  Romance|         Independent|              67|   11.0897415|               89|        $22.18 |2007|\n",
      "| Waiting For Forever|  Romance|         Independent|              53|        0.005|                6|         $0.03 |2011|\n",
      "|     Valentine's Day|   Comedy|        Warner Bros.|              54|  4.184038462|               17|       $217.57 |2010|\n",
      "|Tyler Perry's Why...|  Romance|         Independent|              47|    3.7241924|               46|        $55.86 |2007|\n",
      "|Twilight: Breakin...|  Romance|         Independent|              68|  6.383363636|               26|       $702.17 |2011|\n",
      "|            Twilight|  Romance|              Summit|              82|  10.18002703|               49|       $376.66 |2008|\n",
      "|      The Ugly Truth|   Comedy|         Independent|              68|  5.402631579|               14|       $205.30 |2009|\n",
      "|The Twilight Saga...|    Drama|              Summit|              78|      14.1964|               27|       $709.82 |2009|\n",
      "|The Time Traveler...|    Drama|           Paramount|              65|  2.598205128|               38|       $101.33 |2009|\n",
      "|        The Proposal|   Comedy|              Disney|              74|       7.8675|               43|       $314.70 |2009|\n",
      "|The Invention of ...|   Comedy|        Warner Bros.|              47|  1.751351351|               56|        $32.40 |2009|\n",
      "|  The Heartbreak Kid|   Comedy|           Paramount|              41|  2.129444167|               30|       $127.77 |2007|\n",
      "|         The Duchess|    Drama|           Paramount|              68|  3.207850222|               60|        $43.31 |2008|\n",
      "+--------------------+---------+--------------------+----------------+-------------+-----------------+---------------+----+\n",
      "only showing top 20 rows\n",
      "\n",
      "5\n"
     ]
    }
   ],
   "source": [
    "df.show()\n",
    "print(5)"
   ]
  },
  {
   "cell_type": "code",
   "execution_count": 14,
   "id": "c89cf8e1-9233-49f1-87bc-916e7a27e3bd",
   "metadata": {},
   "outputs": [
    {
     "data": {
      "text/plain": [
       "<bound method DataFrame.printSchema of DataFrame[Film: string, Genre: string, Lead Studio: string, Audience score %: string, Profitability: string, Rotten Tomatoes %: string, Worldwide Gross: string, Year: string]>"
      ]
     },
     "execution_count": 14,
     "metadata": {},
     "output_type": "execute_result"
    }
   ],
   "source": [
    "df.printSchema"
   ]
  },
  {
   "cell_type": "code",
   "execution_count": 16,
   "id": "643a5848-cd8c-4a8b-bf87-daff6f36c7b3",
   "metadata": {},
   "outputs": [
    {
     "name": "stdout",
     "output_type": "stream",
     "text": [
      "root\n",
      " |-- Film: string (nullable = true)\n",
      " |-- Genre: string (nullable = true)\n",
      " |-- Lead Studio: string (nullable = true)\n",
      " |-- Audience score %: string (nullable = true)\n",
      " |-- Profitability: string (nullable = true)\n",
      " |-- Rotten Tomatoes %: string (nullable = true)\n",
      " |-- Worldwide Gross: string (nullable = true)\n",
      " |-- Year: string (nullable = true)\n",
      "\n"
     ]
    }
   ],
   "source": [
    "df.printSchema()"
   ]
  },
  {
   "cell_type": "code",
   "execution_count": 20,
   "id": "7ec1daec-adf5-448d-9f8e-8edcbffbc1f4",
   "metadata": {},
   "outputs": [],
   "source": [
    "df_split = df.withColumn(\"word\", explode(split(col(\"Film\"), \" \")))"
   ]
  },
  {
   "cell_type": "code",
   "execution_count": 22,
   "id": "7e60a1cc-a01c-4c24-b177-3a8ca139c4e4",
   "metadata": {},
   "outputs": [
    {
     "name": "stdout",
     "output_type": "stream",
     "text": [
      "+--------------------+-------+--------------------+----------------+-------------+-----------------+---------------+----+--------+\n",
      "|                Film|  Genre|         Lead Studio|Audience score %|Profitability|Rotten Tomatoes %|Worldwide Gross|Year|    word|\n",
      "+--------------------+-------+--------------------+----------------+-------------+-----------------+---------------+----+--------+\n",
      "|Zack and Miri Mak...|Romance|The Weinstein Com...|              70|  1.747541667|               64|        $41.94 |2008|    Zack|\n",
      "|Zack and Miri Mak...|Romance|The Weinstein Com...|              70|  1.747541667|               64|        $41.94 |2008|     and|\n",
      "|Zack and Miri Mak...|Romance|The Weinstein Com...|              70|  1.747541667|               64|        $41.94 |2008|    Miri|\n",
      "|Zack and Miri Mak...|Romance|The Weinstein Com...|              70|  1.747541667|               64|        $41.94 |2008|    Make|\n",
      "|Zack and Miri Mak...|Romance|The Weinstein Com...|              70|  1.747541667|               64|        $41.94 |2008|       a|\n",
      "|Zack and Miri Mak...|Romance|The Weinstein Com...|              70|  1.747541667|               64|        $41.94 |2008|   Porno|\n",
      "|     Youth in Revolt| Comedy|The Weinstein Com...|              52|         1.09|               68|        $19.62 |2010|   Youth|\n",
      "|     Youth in Revolt| Comedy|The Weinstein Com...|              52|         1.09|               68|        $19.62 |2010|      in|\n",
      "|     Youth in Revolt| Comedy|The Weinstein Com...|              52|         1.09|               68|        $19.62 |2010|  Revolt|\n",
      "|You Will Meet a T...| Comedy|         Independent|              35|  1.211818182|               43|        $26.66 |2010|     You|\n",
      "|You Will Meet a T...| Comedy|         Independent|              35|  1.211818182|               43|        $26.66 |2010|    Will|\n",
      "|You Will Meet a T...| Comedy|         Independent|              35|  1.211818182|               43|        $26.66 |2010|    Meet|\n",
      "|You Will Meet a T...| Comedy|         Independent|              35|  1.211818182|               43|        $26.66 |2010|       a|\n",
      "|You Will Meet a T...| Comedy|         Independent|              35|  1.211818182|               43|        $26.66 |2010|    Tall|\n",
      "|You Will Meet a T...| Comedy|         Independent|              35|  1.211818182|               43|        $26.66 |2010|    Dark|\n",
      "|You Will Meet a T...| Comedy|         Independent|              35|  1.211818182|               43|        $26.66 |2010|Stranger|\n",
      "|        When in Rome| Comedy|              Disney|              44|            0|               15|        $43.04 |2010|    When|\n",
      "|        When in Rome| Comedy|              Disney|              44|            0|               15|        $43.04 |2010|      in|\n",
      "|        When in Rome| Comedy|              Disney|              44|            0|               15|        $43.04 |2010|    Rome|\n",
      "|What Happens in V...| Comedy|                 Fox|              72|  6.267647029|               28|       $219.37 |2008|    What|\n",
      "+--------------------+-------+--------------------+----------------+-------------+-----------------+---------------+----+--------+\n",
      "only showing top 20 rows\n",
      "\n"
     ]
    }
   ],
   "source": [
    "df_split.show()"
   ]
  },
  {
   "cell_type": "code",
   "execution_count": 24,
   "id": "ed11990f-a9a9-436e-8dc2-83b418dd86ba",
   "metadata": {},
   "outputs": [],
   "source": [
    "word_count = df_split.groupBy(\"word\").agg(count(\"word\").alias(\"count\"))"
   ]
  },
  {
   "cell_type": "code",
   "execution_count": 26,
   "id": "28a44c0a-472e-44b8-9a83-256d5d8d7f33",
   "metadata": {},
   "outputs": [
    {
     "name": "stdout",
     "output_type": "stream",
     "text": [
      "+-----------+-----+\n",
      "|       word|count|\n",
      "+-----------+-----+\n",
      "|      Tyler|    1|\n",
      "|        Did|    1|\n",
      "|    Dresses|    1|\n",
      "|   Midnight|    1|\n",
      "|     Senior|    1|\n",
      "|     Method|    1|\n",
      "|      Water|    1|\n",
      "|        One|    1|\n",
      "|       Days|    1|\n",
      "|Valentine's|    1|\n",
      "|      Porno|    1|\n",
      "|       High|    1|\n",
      "|      Drugs|    1|\n",
      "|       Year|    2|\n",
      "|   Benjamin|    1|\n",
      "|       Make|    1|\n",
      "|      Vegas|    1|\n",
      "|  Pettigrew|    1|\n",
      "|    Forever|    1|\n",
      "|   Stranger|    1|\n",
      "+-----------+-----+\n",
      "only showing top 20 rows\n",
      "\n"
     ]
    }
   ],
   "source": [
    "word_count.show()"
   ]
  },
  {
   "cell_type": "code",
   "execution_count": 28,
   "id": "3b89a9a5-d008-4509-8b3c-9df18a131004",
   "metadata": {},
   "outputs": [
    {
     "name": "stdout",
     "output_type": "stream",
     "text": [
      "The most frequent word is 'and' with 9 occurrences.\n"
     ]
    }
   ],
   "source": [
    "max_word = word_count.orderBy(col(\"count\").desc()).first()\n",
    "\n",
    "print(f\"The most frequent word is '{max_word['word']}' with {max_word['count']} occurrences.\")"
   ]
  },
  {
   "cell_type": "code",
   "execution_count": null,
   "id": "59e466d9-23eb-4cc2-8f33-eed9c0579a5a",
   "metadata": {},
   "outputs": [],
   "source": []
  }
 ],
 "metadata": {
  "kernelspec": {
   "display_name": "Python 3 (ipykernel)",
   "language": "python",
   "name": "python3"
  },
  "language_info": {
   "codemirror_mode": {
    "name": "ipython",
    "version": 3
   },
   "file_extension": ".py",
   "mimetype": "text/x-python",
   "name": "python",
   "nbconvert_exporter": "python",
   "pygments_lexer": "ipython3",
   "version": "3.12.4"
  }
 },
 "nbformat": 4,
 "nbformat_minor": 5
}

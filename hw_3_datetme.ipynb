{
 "cells": [
  {
   "cell_type": "code",
   "execution_count": 45,
   "id": "c8556647-9623-4f49-b77e-8d770011f273",
   "metadata": {},
   "outputs": [],
   "source": [
    "from datetime import datetime, timedelta"
   ]
  },
  {
   "cell_type": "code",
   "execution_count": 47,
   "id": "0d4df6ba-7b91-4a9a-9447-b53730b65005",
   "metadata": {},
   "outputs": [
    {
     "name": "stdout",
     "output_type": "stream",
     "text": [
      "The Moscow Times -  Wednesday, October 02, 2002\n"
     ]
    }
   ],
   "source": [
    "str_one = datetime.strptime(\"02.10.2002\",\"%d.%m.%Y\")\n",
    "date_obj = str_one.strftime(\"%A, %B %d, %Y\")\n",
    "print(\"The Moscow Times - \", date_obj)"
   ]
  },
  {
   "cell_type": "code",
   "execution_count": 49,
   "id": "b53c7bdd-fc10-410d-ad22-ed8b1bc14ab7",
   "metadata": {},
   "outputs": [
    {
     "name": "stdout",
     "output_type": "stream",
     "text": [
      "The Guardian -  Friday, 11.10.13\n"
     ]
    }
   ],
   "source": [
    "str_one = datetime.strptime(\"11.10.2013\",\"%d.%m.%Y\")\n",
    "date_obj = str_one.strftime(\"%A, %d.%m.%y\")\n",
    "print(\"The Guardian - \", date_obj)"
   ]
  },
  {
   "cell_type": "code",
   "execution_count": 51,
   "id": "2849f5fd-7a07-48e6-a2d4-3ac79d5bcdc5",
   "metadata": {},
   "outputs": [
    {
     "name": "stdout",
     "output_type": "stream",
     "text": [
      "The Daily News -  Thursday, 18 August 1977\n"
     ]
    }
   ],
   "source": [
    "str_one = datetime.strptime(\"18.08.1977\",\"%d.%m.%Y\")\n",
    "date_obj = str_one.strftime(\"%A, %d %B %Y\")\n",
    "print(\"The Daily News - \", date_obj)"
   ]
  },
  {
   "cell_type": "code",
   "execution_count": 53,
   "id": "aacce374-9f59-4c9f-a86a-f3e6fa01be22",
   "metadata": {},
   "outputs": [],
   "source": [
    "from typing import List\n",
    "\n",
    "def date_range(start_date: str, end_date: str) -> List:\n",
    "    try:\n",
    "        start_date = datetime.strptime(start_date, '%Y-%m-%d')\n",
    "        end_date = datetime.strptime(end_date, '%Y-%m-%d')\n",
    "    except ValueError:\n",
    "        return []\n",
    "    if end_date < start_date:\n",
    "        return []\n",
    "\n",
    "    delta = end_date - start_date\n",
    "\n",
    "    result_list = [(start_date + timedelta(days=i)).strftime('%Y-%m-%d') for i in range(delta.days + 1)]\n",
    "    return result_list"
   ]
  },
  {
   "cell_type": "code",
   "execution_count": 55,
   "id": "fffb4c2a-00c9-4233-9195-3a5968b7c215",
   "metadata": {},
   "outputs": [
    {
     "name": "stdout",
     "output_type": "stream",
     "text": [
      "['2023-09-01', '2023-09-02', '2023-09-03', '2023-09-04', '2023-09-05']\n"
     ]
    }
   ],
   "source": [
    "res = date_range('2023-09-01', '2023-09-05')\n",
    "print(res)"
   ]
  },
  {
   "cell_type": "code",
   "execution_count": null,
   "id": "c76bea97-9625-41b9-86f6-04d6a6ec2de8",
   "metadata": {},
   "outputs": [],
   "source": []
  }
 ],
 "metadata": {
  "kernelspec": {
   "display_name": "Python 3 (ipykernel)",
   "language": "python",
   "name": "python3"
  },
  "language_info": {
   "codemirror_mode": {
    "name": "ipython",
    "version": 3
   },
   "file_extension": ".py",
   "mimetype": "text/x-python",
   "name": "python",
   "nbconvert_exporter": "python",
   "pygments_lexer": "ipython3",
   "version": "3.12.4"
  }
 },
 "nbformat": 4,
 "nbformat_minor": 5
}

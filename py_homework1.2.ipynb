{
 "cells": [
  {
   "cell_type": "code",
   "execution_count": 6,
   "id": "c756cb10-8c53-4fae-9acc-cfe40f1ef2b8",
   "metadata": {},
   "outputs": [],
   "source": [
    "import json\n",
    "import csv"
   ]
  },
  {
   "cell_type": "code",
   "execution_count": 8,
   "id": "20fef815-023e-4358-a945-19df2d879027",
   "metadata": {},
   "outputs": [],
   "source": [
    "with open('purchase_log.txt', 'r', encoding='UTF-8') as file:\n",
    "    reader = file.readlines()[1:] # читаем все строки начиная со второй\n",
    "    data_dicts = [json.loads(line) for line in reader]"
   ]
  },
  {
   "cell_type": "code",
   "execution_count": 10,
   "id": "41496203-8b05-4468-a69d-427275e65fa8",
   "metadata": {},
   "outputs": [],
   "source": [
    "purchases = {}\n",
    "for data in data_dicts:\n",
    "    purchases[data['user_id']] = data['category']"
   ]
  },
  {
   "cell_type": "code",
   "execution_count": 12,
   "id": "18b51997-a599-4ff6-b2d7-befdf14ffb6e",
   "metadata": {},
   "outputs": [
    {
     "name": "stdout",
     "output_type": "stream",
     "text": [
      "('1840e0b9d4', 'Продукты')\n"
     ]
    }
   ],
   "source": [
    "first_element = next(iter(purchases.items()))\n",
    "print(first_element)"
   ]
  },
  {
   "cell_type": "code",
   "execution_count": 14,
   "id": "48bebad8-7206-4e8c-9c4f-552b3d0d4e93",
   "metadata": {},
   "outputs": [],
   "source": [
    "header = ['user_id', 'source', 'category']\n",
    "itog_list = []"
   ]
  },
  {
   "cell_type": "code",
   "execution_count": 16,
   "id": "de818993-eb72-47d5-9755-dc09cabc1507",
   "metadata": {},
   "outputs": [],
   "source": [
    "with open('visit_log.csv', 'r', encoding='UTF-8') as file:\n",
    "    for line in file:\n",
    "        split_str = line.replace('\\n', '').split(',')\n",
    "        if len(split_str) == 2:\n",
    "            user_id = split_str[0]\n",
    "            if user_id in purchases:\n",
    "                split_str.append(purchases[user_id])\n",
    "                itog_list.append(split_str)"
   ]
  },
  {
   "cell_type": "code",
   "execution_count": 18,
   "id": "3f802241-f016-4f34-9c91-95ddc60f9672",
   "metadata": {},
   "outputs": [
    {
     "name": "stdout",
     "output_type": "stream",
     "text": [
      "Данные успешно записаны\n"
     ]
    }
   ],
   "source": [
    "with open('funnel.csv', 'w', newline='', encoding='utf-8-sig') as file:\n",
    "    writer = csv.writer(file)\n",
    "    writer.writerow(header)\n",
    "    writer.writerows(itog_list)\n",
    "print('Данные успешно записаны')"
   ]
  },
  {
   "cell_type": "code",
   "execution_count": null,
   "id": "1bc776a1-1895-44b8-b6f8-22e0e2c7e5f0",
   "metadata": {},
   "outputs": [],
   "source": []
  }
 ],
 "metadata": {
  "kernelspec": {
   "display_name": "Python 3 (ipykernel)",
   "language": "python",
   "name": "python3"
  },
  "language_info": {
   "codemirror_mode": {
    "name": "ipython",
    "version": 3
   },
   "file_extension": ".py",
   "mimetype": "text/x-python",
   "name": "python",
   "nbconvert_exporter": "python",
   "pygments_lexer": "ipython3",
   "version": "3.12.4"
  }
 },
 "nbformat": 4,
 "nbformat_minor": 5
}

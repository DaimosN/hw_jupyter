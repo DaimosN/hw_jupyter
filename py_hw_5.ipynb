{
 "cells": [
  {
   "cell_type": "code",
   "execution_count": 2,
   "id": "6dddb972-fe98-473a-912b-60108468cc94",
   "metadata": {},
   "outputs": [
    {
     "name": "stdout",
     "output_type": "stream",
     "text": [
      "Запуск для 10_000 операций:\n",
      "Продолжительность для формулы 1 (10000 итераций): 0.007999 секунд\n",
      "Продолжительность для формулы 2 (10000 итераций): 0.000000 секунд\n",
      "Продолжительность для формулы 3 (10000 итераций): 0.000000 секунд\n",
      "\n",
      "Запуск для 100_000 операций:\n",
      "Продолжительность для формулы 1 (100000 итераций): 0.053645 секунд\n",
      "Продолжительность для формулы 2 (100000 итераций): 0.000000 секунд\n",
      "Продолжительность для формулы 3 (100000 итераций): 0.009176 секунд\n"
     ]
    }
   ],
   "source": [
    "import time\n",
    "import threading\n",
    "\n",
    "\n",
    "# Определяем функции для вычислений\n",
    "def formula_1(start, end, results):\n",
    "    for x in range(start, end):\n",
    "        results[x] = x ** 2 - x ** 2 + x * 4 - x * 5 + x + x\n",
    "\n",
    "\n",
    "def formula_2(start, end, results):\n",
    "    for x in range(start, end):\n",
    "        results[x] = x + x\n",
    "\n",
    "\n",
    "def compute_iterations(iterations):\n",
    "    # Счетчики для времени\n",
    "    start_time = time.time()\n",
    "\n",
    "    # Результаты для формул\n",
    "    results_1 = [0] * iterations\n",
    "    results_2 = [0] * iterations\n",
    "\n",
    "    # Определяем границы для потоков\n",
    "    mid = iterations // 2\n",
    "\n",
    "    # Создаем потоки для формулы 1 и формулы 2\n",
    "    thread1 = threading.Thread(target=formula_1, args=(0, iterations, results_1))\n",
    "    thread2 = threading.Thread(target=formula_2, args=(0, iterations, results_2))\n",
    "\n",
    "    # Запускаем потоки\n",
    "    thread1.start()\n",
    "    thread2.start()\n",
    "\n",
    "    # Ждем завершения потоков\n",
    "    thread1.join()\n",
    "    duration_1 = time.time() - start_time\n",
    "    print(f\"Продолжительность для формулы 1 ({iterations} итераций): {duration_1:.6f} секунд\")\n",
    "\n",
    "    start_time = time.time()\n",
    "\n",
    "    # Ждем завершения второго потока\n",
    "    thread2.join()\n",
    "    duration_2 = time.time() - start_time\n",
    "    print(f\"Продолжительность для формулы 2 ({iterations} итераций): {duration_2:.6f} секунд\")\n",
    "\n",
    "    # Выполняем вычисления по формуле 3\n",
    "    start_time = time.time()\n",
    "\n",
    "    results_3 = [r1 + r2 for r1, r2 in zip(results_1, results_2)]\n",
    "\n",
    "    duration_3 = time.time() - start_time\n",
    "    print(f\"Продолжительность для формулы 3 ({iterations} итераций): {duration_3:.6f} секунд\")\n",
    "\n",
    "\n",
    "# Выполняем вычисления для 10,000 и 100,000 итераций\n",
    "print(\"Запуск для 10_000 операций:\")\n",
    "compute_iterations(10000)\n",
    "\n",
    "print(\"\\nЗапуск для 100_000 операций:\")\n",
    "compute_iterations(100000)"
   ]
  },
  {
   "cell_type": "code",
   "execution_count": 4,
   "id": "33d1c2ec-6812-410f-aaec-136dd396a381",
   "metadata": {},
   "outputs": [
    {
     "name": "stdout",
     "output_type": "stream",
     "text": [
      "Запуск для 10,000 итераций:\n"
     ]
    },
    {
     "ename": "BrokenProcessPool",
     "evalue": "A child process terminated abruptly, the process pool is not usable anymore",
     "output_type": "error",
     "traceback": [
      "\u001b[1;31m---------------------------------------------------------------------------\u001b[0m",
      "\u001b[1;31mBrokenProcessPool\u001b[0m                         Traceback (most recent call last)",
      "Cell \u001b[1;32mIn[4], line 41\u001b[0m\n\u001b[0;32m     38\u001b[0m \u001b[38;5;28;01mif\u001b[39;00m \u001b[38;5;18m__name__\u001b[39m \u001b[38;5;241m==\u001b[39m \u001b[38;5;124m\"\u001b[39m\u001b[38;5;124m__main__\u001b[39m\u001b[38;5;124m\"\u001b[39m:\n\u001b[0;32m     39\u001b[0m     \u001b[38;5;66;03m# Выполняем вычисления для 10,000 и 100,000 итераций\u001b[39;00m\n\u001b[0;32m     40\u001b[0m     \u001b[38;5;28mprint\u001b[39m(\u001b[38;5;124m\"\u001b[39m\u001b[38;5;124mЗапуск для 10,000 итераций:\u001b[39m\u001b[38;5;124m\"\u001b[39m)\n\u001b[1;32m---> 41\u001b[0m     compute_iterations(\u001b[38;5;241m10000\u001b[39m)\n\u001b[0;32m     43\u001b[0m     \u001b[38;5;28mprint\u001b[39m(\u001b[38;5;124m\"\u001b[39m\u001b[38;5;130;01m\\n\u001b[39;00m\u001b[38;5;124mЗапуск для 100,000 итераций:\u001b[39m\u001b[38;5;124m\"\u001b[39m)\n\u001b[0;32m     44\u001b[0m     compute_iterations(\u001b[38;5;241m100000\u001b[39m)\n",
      "Cell \u001b[1;32mIn[4], line 17\u001b[0m, in \u001b[0;36mcompute_iterations\u001b[1;34m(iterations)\u001b[0m\n\u001b[0;32m     15\u001b[0m \u001b[38;5;66;03m# Выполняем вычисления по формуле 1\u001b[39;00m\n\u001b[0;32m     16\u001b[0m \u001b[38;5;28;01mwith\u001b[39;00m ProcessPoolExecutor() \u001b[38;5;28;01mas\u001b[39;00m executor:\n\u001b[1;32m---> 17\u001b[0m     results_1 \u001b[38;5;241m=\u001b[39m \u001b[38;5;28mlist\u001b[39m(executor\u001b[38;5;241m.\u001b[39mmap(formula_1, \u001b[38;5;28mrange\u001b[39m(iterations)))\n\u001b[0;32m     19\u001b[0m duration_1 \u001b[38;5;241m=\u001b[39m time\u001b[38;5;241m.\u001b[39mtime() \u001b[38;5;241m-\u001b[39m start_time\n\u001b[0;32m     20\u001b[0m \u001b[38;5;28mprint\u001b[39m(\u001b[38;5;124mf\u001b[39m\u001b[38;5;124m\"\u001b[39m\u001b[38;5;124mПродолжительность для формулы 1 (\u001b[39m\u001b[38;5;132;01m{\u001b[39;00miterations\u001b[38;5;132;01m}\u001b[39;00m\u001b[38;5;124m итераций): \u001b[39m\u001b[38;5;132;01m{\u001b[39;00mduration_1\u001b[38;5;132;01m:\u001b[39;00m\u001b[38;5;124m.6f\u001b[39m\u001b[38;5;132;01m}\u001b[39;00m\u001b[38;5;124m секунд\u001b[39m\u001b[38;5;124m\"\u001b[39m)\n",
      "File \u001b[1;32m~\\anaconda3\\Lib\\concurrent\\futures\\process.py:859\u001b[0m, in \u001b[0;36mProcessPoolExecutor.map\u001b[1;34m(self, fn, timeout, chunksize, *iterables)\u001b[0m\n\u001b[0;32m    856\u001b[0m \u001b[38;5;28;01mif\u001b[39;00m chunksize \u001b[38;5;241m<\u001b[39m \u001b[38;5;241m1\u001b[39m:\n\u001b[0;32m    857\u001b[0m     \u001b[38;5;28;01mraise\u001b[39;00m \u001b[38;5;167;01mValueError\u001b[39;00m(\u001b[38;5;124m\"\u001b[39m\u001b[38;5;124mchunksize must be >= 1.\u001b[39m\u001b[38;5;124m\"\u001b[39m)\n\u001b[1;32m--> 859\u001b[0m results \u001b[38;5;241m=\u001b[39m \u001b[38;5;28msuper\u001b[39m()\u001b[38;5;241m.\u001b[39mmap(partial(_process_chunk, fn),\n\u001b[0;32m    860\u001b[0m                       _get_chunks(\u001b[38;5;241m*\u001b[39miterables, chunksize\u001b[38;5;241m=\u001b[39mchunksize),\n\u001b[0;32m    861\u001b[0m                       timeout\u001b[38;5;241m=\u001b[39mtimeout)\n\u001b[0;32m    862\u001b[0m \u001b[38;5;28;01mreturn\u001b[39;00m _chain_from_iterable_of_lists(results)\n",
      "File \u001b[1;32m~\\anaconda3\\Lib\\concurrent\\futures\\_base.py:608\u001b[0m, in \u001b[0;36mExecutor.map\u001b[1;34m(self, fn, timeout, chunksize, *iterables)\u001b[0m\n\u001b[0;32m    605\u001b[0m \u001b[38;5;28;01mif\u001b[39;00m timeout \u001b[38;5;129;01mis\u001b[39;00m \u001b[38;5;129;01mnot\u001b[39;00m \u001b[38;5;28;01mNone\u001b[39;00m:\n\u001b[0;32m    606\u001b[0m     end_time \u001b[38;5;241m=\u001b[39m timeout \u001b[38;5;241m+\u001b[39m time\u001b[38;5;241m.\u001b[39mmonotonic()\n\u001b[1;32m--> 608\u001b[0m fs \u001b[38;5;241m=\u001b[39m [\u001b[38;5;28mself\u001b[39m\u001b[38;5;241m.\u001b[39msubmit(fn, \u001b[38;5;241m*\u001b[39margs) \u001b[38;5;28;01mfor\u001b[39;00m args \u001b[38;5;129;01min\u001b[39;00m \u001b[38;5;28mzip\u001b[39m(\u001b[38;5;241m*\u001b[39miterables)]\n\u001b[0;32m    610\u001b[0m \u001b[38;5;66;03m# Yield must be hidden in closure so that the futures are submitted\u001b[39;00m\n\u001b[0;32m    611\u001b[0m \u001b[38;5;66;03m# before the first iterator value is required.\u001b[39;00m\n\u001b[0;32m    612\u001b[0m \u001b[38;5;28;01mdef\u001b[39;00m \u001b[38;5;21mresult_iterator\u001b[39m():\n",
      "File \u001b[1;32m~\\anaconda3\\Lib\\concurrent\\futures\\process.py:813\u001b[0m, in \u001b[0;36mProcessPoolExecutor.submit\u001b[1;34m(self, fn, *args, **kwargs)\u001b[0m\n\u001b[0;32m    811\u001b[0m \u001b[38;5;28;01mwith\u001b[39;00m \u001b[38;5;28mself\u001b[39m\u001b[38;5;241m.\u001b[39m_shutdown_lock:\n\u001b[0;32m    812\u001b[0m     \u001b[38;5;28;01mif\u001b[39;00m \u001b[38;5;28mself\u001b[39m\u001b[38;5;241m.\u001b[39m_broken:\n\u001b[1;32m--> 813\u001b[0m         \u001b[38;5;28;01mraise\u001b[39;00m BrokenProcessPool(\u001b[38;5;28mself\u001b[39m\u001b[38;5;241m.\u001b[39m_broken)\n\u001b[0;32m    814\u001b[0m     \u001b[38;5;28;01mif\u001b[39;00m \u001b[38;5;28mself\u001b[39m\u001b[38;5;241m.\u001b[39m_shutdown_thread:\n\u001b[0;32m    815\u001b[0m         \u001b[38;5;28;01mraise\u001b[39;00m \u001b[38;5;167;01mRuntimeError\u001b[39;00m(\u001b[38;5;124m'\u001b[39m\u001b[38;5;124mcannot schedule new futures after shutdown\u001b[39m\u001b[38;5;124m'\u001b[39m)\n",
      "\u001b[1;31mBrokenProcessPool\u001b[0m: A child process terminated abruptly, the process pool is not usable anymore"
     ]
    }
   ],
   "source": [
    "import time\n",
    "from multiprocessing import Pool\n",
    "\n",
    "# Определяем функции для вычислений\n",
    "def formula_1(x):\n",
    "    return x**2 - x**2 + x * 4 - x * 5 + x + x\n",
    "\n",
    "def formula_2(x):\n",
    "    return x + x\n",
    "\n",
    "def compute_iterations(iterations):\n",
    "    # Счетчики для времени\n",
    "    start_time = time.time()\n",
    "\n",
    "    # Выполняем вычисления по формуле 1\n",
    "    with Pool() as pool:\n",
    "        results_1 = pool.map(formula_1, range(iterations))\n",
    "    \n",
    "    duration_1 = time.time() - start_time\n",
    "    print(f\"Продолжительность для формулы 1 ({iterations} итераций): {duration_1:.6f} секунд\")\n",
    "\n",
    "    # Выполняем вычисления по формуле 2\n",
    "    start_time = time.time()\n",
    "    with Pool() as pool:\n",
    "        results_2 = pool.map(formula_2, range(iterations))\n",
    "\n",
    "    duration_2 = time.time() - start_time\n",
    "    print(f\"Продолжительность для формулы 2 ({iterations} итераций): {duration_2:.6f} seconds\")\n",
    "\n",
    "    # Выполняем вычисления по формуле 3\n",
    "    start_time = time.time()\n",
    "    results_3 = [r1 + r2 for r1, r2 in zip(results_1, results_2)]\n",
    "    \n",
    "    duration_3 = time.time() - start_time\n",
    "    print(f\"Продолжительность для формулы 3 ({iterations} итераций): {duration_3:.6f} seconds\")\n",
    "\n",
    "if __name__ == \"__main__\":\n",
    "    # Выполняем вычисления для 10,000 и 100,000 итераций\n",
    "    print(\"Running for 10,000 iterations:\")\n",
    "    compute_iterations(10000)\n",
    "\n",
    "    print(\"\\nRunning for 100,000 iterations:\")\n",
    "    compute_iterations(100000)"
   ]
  },
  {
   "cell_type": "code",
   "execution_count": null,
   "id": "32dd7b44-4ef3-4df2-acd4-3c2a547ffa0b",
   "metadata": {},
   "outputs": [],
   "source": []
  }
 ],
 "metadata": {
  "kernelspec": {
   "display_name": "Python 3 (ipykernel)",
   "language": "python",
   "name": "python3"
  },
  "language_info": {
   "codemirror_mode": {
    "name": "ipython",
    "version": 3
   },
   "file_extension": ".py",
   "mimetype": "text/x-python",
   "name": "python",
   "nbconvert_exporter": "python",
   "pygments_lexer": "ipython3",
   "version": "3.12.4"
  }
 },
 "nbformat": 4,
 "nbformat_minor": 5
}

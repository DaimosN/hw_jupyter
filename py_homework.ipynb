{
 "cells": [
  {
   "cell_type": "code",
   "execution_count": 2,
   "id": "c756cb10-8c53-4fae-9acc-cfe40f1ef2b8",
   "metadata": {},
   "outputs": [],
   "source": [
    "import json"
   ]
  },
  {
   "cell_type": "code",
   "execution_count": 4,
   "id": "20fef815-023e-4358-a945-19df2d879027",
   "metadata": {},
   "outputs": [],
   "source": [
    "with open('purchase_log.txt', 'r', encoding='UTF-8') as file:\n",
    "    reader = file.readlines()[1:] # читаем все строки начиная со второй\n",
    "    data_dicts = [json.loads(line) for line in reader]"
   ]
  },
  {
   "cell_type": "code",
   "execution_count": 6,
   "id": "41496203-8b05-4468-a69d-427275e65fa8",
   "metadata": {},
   "outputs": [],
   "source": [
    "purchases = {}\n",
    "for data in data_dicts:\n",
    "    purchases[data['user_id']] = data['category']"
   ]
  },
  {
   "cell_type": "code",
   "execution_count": 18,
   "id": "18b51997-a599-4ff6-b2d7-befdf14ffb6e",
   "metadata": {},
   "outputs": [
    {
     "name": "stdout",
     "output_type": "stream",
     "text": [
      "('1840e0b9d4', 'Продукты')\n"
     ]
    }
   ],
   "source": [
    "first_element = next(iter(purchases.items()))\n",
    "print(first_element)"
   ]
  },
  {
   "cell_type": "code",
   "execution_count": null,
   "id": "48bebad8-7206-4e8c-9c4f-552b3d0d4e93",
   "metadata": {},
   "outputs": [],
   "source": []
  }
 ],
 "metadata": {
  "kernelspec": {
   "display_name": "Python 3 (ipykernel)",
   "language": "python",
   "name": "python3"
  },
  "language_info": {
   "codemirror_mode": {
    "name": "ipython",
    "version": 3
   },
   "file_extension": ".py",
   "mimetype": "text/x-python",
   "name": "python",
   "nbconvert_exporter": "python",
   "pygments_lexer": "ipython3",
   "version": "3.12.4"
  }
 },
 "nbformat": 4,
 "nbformat_minor": 5
}

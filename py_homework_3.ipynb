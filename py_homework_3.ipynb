{
 "cells": [
  {
   "cell_type": "code",
   "execution_count": 1,
   "id": "218debad-7d2e-46bf-b891-830bc5dfe832",
   "metadata": {},
   "outputs": [],
   "source": [
    "import sqlite3\n",
    "from datetime import datetime\n",
    "from typing import List"
   ]
  },
  {
   "cell_type": "code",
   "execution_count": 13,
   "id": "8d9fb57d-2eff-4055-b92f-f179f5593efc",
   "metadata": {},
   "outputs": [],
   "source": [
    "class Account:\n",
    "    \"\"\"\n",
    "    Класс банковского аккаунта, предназнеченный для заведения нового участника, внесения и снятия денег с счета.\n",
    "    Предусмотрено ведение истории операций с возможностью просмотра последних 100 операций.\n",
    "    \"\"\"\n",
    "\n",
    "    def __init__(self, name: str, start_balance: int = 0) -> None:\n",
    "        self.name = name\n",
    "        self.start_balance = start_balance\n",
    "\n",
    "        self.__create_table()\n",
    "\n",
    "    def __create_table(self):\n",
    "        with sqlite3.connect('bank.db') as conn:\n",
    "            cursor = conn.cursor()\n",
    "            cursor.execute(\"\"\"CREATE TABLE IF NOT EXISTS accounts_history (\n",
    "                                                    ID INTEGER PRIMARY KEY AUTOINCREMENT,\n",
    "                                                    name TEXT NOT NULL,\n",
    "                                                    operation_name TEXT NOT NULL,\n",
    "                                                    balance INT NOT NULL,\n",
    "                                                    date TEXT DEFAULT CURRENT_TIMESTAMP\n",
    "                                                    )\n",
    "                            \"\"\")\n",
    "            conn.commit()\n",
    "\n",
    "    def deposit_money(self, add_money: int):\n",
    "        if type(add_money) == int and add_money > 0:\n",
    "            self.start_balance += add_money\n",
    "            with sqlite3.connect(\"bank.db\") as conn:\n",
    "                cursor = conn.cursor()\n",
    "                cursor.execute(\"\"\"INSERT INTO accounts_history (name, operation_name, balance) VALUES (?, ?, ?)\"\"\",\n",
    "                               (self.name, 'deposit_money', self.start_balance))\n",
    "                conn.commit()\n",
    "            return print(f\"Внесено {add_money} ед.\\nТекущий баланс {self.start_balance}\")\n",
    "\n",
    "        return print(\"Введены некорректные данные\")\n",
    "\n",
    "    def get_money(self, push_money: int):\n",
    "        if self.start_balance <= push_money:\n",
    "            return print(f\"У вас недостаточно средств.\\nТекущий баланс {self.start_balance} ед\")\n",
    "        self.start_balance -= push_money\n",
    "\n",
    "        with sqlite3.connect(\"bank.db\") as conn:\n",
    "            cursor = conn.cursor()\n",
    "            cursor.execute(\"\"\"INSERT INTO accounts_history (name, operation_name, balance) VALUES (?, ?, ?)\"\"\",\n",
    "                           (self.name, 'get_money', self.start_balance))\n",
    "            conn.commit()\n",
    "\n",
    "        return print(f\"Выдано {push_money} ед.\\nТекущий баланс {self.start_balance}\")\n",
    "\n",
    "    def get_history(self) -> List:\n",
    "        with sqlite3.connect('bank.db') as conn:\n",
    "            cursor = conn.cursor()\n",
    "            cursor.execute(f\"\"\"\n",
    "                           SELECT  ID, name, operation_name, balance, strftime('%d.%m.%Y %H:%M', date)\n",
    "                           FROM accounts_history \n",
    "                           where name = '{self.name}' order by date desc\n",
    "                           LIMIT 100\n",
    "                           \"\"\")\n",
    "            return cursor.fetchall()"
   ]
  },
  {
   "cell_type": "code",
   "execution_count": 15,
   "id": "7d11c688-4765-4e96-aeb9-68c52eb518c7",
   "metadata": {},
   "outputs": [],
   "source": [
    "ivan = Account('Ivan', 100)\n",
    "any = Account(\"Any\", 1000)"
   ]
  },
  {
   "cell_type": "code",
   "execution_count": 17,
   "id": "b2b655c7-aff6-4e77-9fc0-e6d4929d2978",
   "metadata": {},
   "outputs": [
    {
     "name": "stdout",
     "output_type": "stream",
     "text": [
      "Внесено 100 ед.\n",
      "Текущий баланс 1100\n"
     ]
    }
   ],
   "source": [
    "any.deposit_money(100)"
   ]
  },
  {
   "cell_type": "code",
   "execution_count": 19,
   "id": "2f852550-2a59-4557-8cde-e1be1cbd3aa8",
   "metadata": {},
   "outputs": [
    {
     "name": "stdout",
     "output_type": "stream",
     "text": [
      "Выдано 10 ед.\n",
      "Текущий баланс 90\n"
     ]
    }
   ],
   "source": [
    "ivan.get_money(10)"
   ]
  },
  {
   "cell_type": "code",
   "execution_count": 21,
   "id": "d560644d-d8ea-498b-a2b8-89a7142273e8",
   "metadata": {},
   "outputs": [
    {
     "name": "stdout",
     "output_type": "stream",
     "text": [
      "У вас недостаточно средств.\n",
      "Текущий баланс 90 ед\n"
     ]
    }
   ],
   "source": [
    "ivan.get_money(1000)"
   ]
  },
  {
   "cell_type": "code",
   "execution_count": 23,
   "id": "79f376d2-a0c8-4bbb-ad77-5d4c28081b29",
   "metadata": {},
   "outputs": [
    {
     "name": "stdout",
     "output_type": "stream",
     "text": [
      "Внесено 1000 ед.\n",
      "Текущий баланс 1090\n"
     ]
    }
   ],
   "source": [
    "ivan.deposit_money(1000)"
   ]
  },
  {
   "cell_type": "code",
   "execution_count": 27,
   "id": "9840857e-a079-45c2-9445-7b1ae2790296",
   "metadata": {},
   "outputs": [
    {
     "name": "stdout",
     "output_type": "stream",
     "text": [
      "[(5, 'Ivan', 'deposit_money', 1090, '02.10.2024 21:26'), (4, 'Ivan', 'get_money', 90, '02.10.2024 21:25')]\n"
     ]
    }
   ],
   "source": [
    "print(ivan.get_history())"
   ]
  },
  {
   "cell_type": "code",
   "execution_count": 29,
   "id": "a6f0141e-145b-4099-a2a1-5e868a553402",
   "metadata": {},
   "outputs": [
    {
     "name": "stdout",
     "output_type": "stream",
     "text": [
      "[(3, 'Any', 'deposit_money', 1100, '02.10.2024 21:25'), (2, 'Any', 'deposit_money', 1200, '02.10.2024 21:25'), (1, 'Any', 'deposit_money', 1100, '02.10.2024 21:24')]\n"
     ]
    }
   ],
   "source": [
    "print(any.get_history())"
   ]
  },
  {
   "cell_type": "code",
   "execution_count": null,
   "id": "5a08c880-1c3c-43c2-b9b7-aba75c7c2b1a",
   "metadata": {},
   "outputs": [],
   "source": []
  }
 ],
 "metadata": {
  "kernelspec": {
   "display_name": "Python 3 (ipykernel)",
   "language": "python",
   "name": "python3"
  },
  "language_info": {
   "codemirror_mode": {
    "name": "ipython",
    "version": 3
   },
   "file_extension": ".py",
   "mimetype": "text/x-python",
   "name": "python",
   "nbconvert_exporter": "python",
   "pygments_lexer": "ipython3",
   "version": "3.12.4"
  }
 },
 "nbformat": 4,
 "nbformat_minor": 5
}
